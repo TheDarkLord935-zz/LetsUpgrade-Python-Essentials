{
  "nbformat": 4,
  "nbformat_minor": 0,
  "metadata": {
    "colab": {
      "name": "Day3.ipnyb",
      "provenance": [],
      "collapsed_sections": [],
      "authorship_tag": "ABX9TyN409ANpt9t7U9ux6/8OQSx",
      "include_colab_link": true
    },
    "kernelspec": {
      "name": "python3",
      "display_name": "Python 3"
    }
  },
  "cells": [
    {
      "cell_type": "markdown",
      "metadata": {
        "id": "view-in-github",
        "colab_type": "text"
      },
      "source": [
        "<a href=\"https://colab.research.google.com/github/TheDarkLord935/LetsUpgrade-Python-Essentials/blob/master/Day3.ipynb\" target=\"_parent\"><img src=\"https://colab.research.google.com/assets/colab-badge.svg\" alt=\"Open In Colab\"/></a>"
      ]
    },
    {
      "cell_type": "code",
      "metadata": {
        "id": "h9OLlsXbfode",
        "colab_type": "code",
        "colab": {
          "base_uri": "https://localhost:8080/",
          "height": 122
        },
        "outputId": "0e972c48-837f-446f-987b-32bf95689044"
      },
      "source": [
        " \n",
        "#Question 1: Flight Altitude\n",
        " \n",
        "num= int (input(\"Enter Your Current Altitude: \"))\n",
        " \n",
        "print(\"\\n\\n\")\n",
        " \n",
        "if num<=1000:\n",
        "    print(\" Safe To Land.\")\n",
        " \n",
        "elif num>1000 and num<=5000:\n",
        "    print(\"Bring It Down To 1000.\")\n",
        " \n",
        "else:\n",
        "    print(\"Turn Around.\")"
      ],
      "execution_count": null,
      "outputs": [
        {
          "output_type": "stream",
          "text": [
            "Enter Your Current Altitude: 1000\n",
            "\n",
            "\n",
            "\n",
            " Safe To Land.\n"
          ],
          "name": "stdout"
        }
      ]
    },
    {
      "cell_type": "code",
      "metadata": {
        "id": "iCGLrDKL34Ar",
        "colab_type": "code",
        "colab": {
          "base_uri": "https://localhost:8080/",
          "height": 122
        },
        "outputId": "63947689-9296-4293-b0eb-fbe7f1490d5f"
      },
      "source": [
        " \n",
        "#Question 1: Flight Altitude\n",
        " \n",
        "num= int (input(\"Enter Your Current Altitude: \"))\n",
        " \n",
        "print(\"\\n\\n\")\n",
        " \n",
        "if num<=1000:\n",
        "    print(\" Safe To Land.\")\n",
        " \n",
        "elif num>1000 and num<=5000:\n",
        "    print(\"Bring It Down To 1000.\")\n",
        " \n",
        "else:\n",
        "    print(\"Turn Around.\")"
      ],
      "execution_count": null,
      "outputs": [
        {
          "output_type": "stream",
          "text": [
            "Enter Your Current Altitude: 4500\n",
            "\n",
            "\n",
            "\n",
            "Bring It Down To 1000.\n"
          ],
          "name": "stdout"
        }
      ]
    },
    {
      "cell_type": "code",
      "metadata": {
        "id": "jOoPrFPV363H",
        "colab_type": "code",
        "colab": {
          "base_uri": "https://localhost:8080/",
          "height": 122
        },
        "outputId": "5980244d-cbfe-419c-fa2d-b9eab98a81ef"
      },
      "source": [
        " \n",
        " \n",
        "#Question 1: Flight Altitude\n",
        " \n",
        "num= int (input(\"Enter Your Current Altitude: \"))\n",
        " \n",
        "print(\"\\n\\n\")\n",
        " \n",
        "if num<=1000:\n",
        "    print(\" Safe To Land.\")\n",
        " \n",
        "elif num>1000 and num<=5000:\n",
        "    print(\"Bring It Down To 1000.\")\n",
        " \n",
        "else:\n",
        "    print(\"Turn Around.\")"
      ],
      "execution_count": null,
      "outputs": [
        {
          "output_type": "stream",
          "text": [
            "Enter Your Current Altitude: 6000\n",
            "\n",
            "\n",
            "\n",
            "Turn Around.\n"
          ],
          "name": "stdout"
        }
      ]
    },
    {
      "cell_type": "code",
      "metadata": {
        "id": "xj_ftc_ullqI",
        "colab_type": "code",
        "colab": {
          "base_uri": "https://localhost:8080/",
          "height": 799
        },
        "outputId": "aba06ff2-3a64-49f0-be63-799b901ffcc5"
      },
      "source": [
        "for num in range(2,200):\n",
        "    for i in range(2,num):\n",
        "        if num%i==0:\n",
        "            break\n",
        "    else:\n",
        "        print(num)"
      ],
      "execution_count": 2,
      "outputs": [
        {
          "output_type": "stream",
          "text": [
            "2\n",
            "3\n",
            "5\n",
            "7\n",
            "11\n",
            "13\n",
            "17\n",
            "19\n",
            "23\n",
            "29\n",
            "31\n",
            "37\n",
            "41\n",
            "43\n",
            "47\n",
            "53\n",
            "59\n",
            "61\n",
            "67\n",
            "71\n",
            "73\n",
            "79\n",
            "83\n",
            "89\n",
            "97\n",
            "101\n",
            "103\n",
            "107\n",
            "109\n",
            "113\n",
            "127\n",
            "131\n",
            "137\n",
            "139\n",
            "149\n",
            "151\n",
            "157\n",
            "163\n",
            "167\n",
            "173\n",
            "179\n",
            "181\n",
            "191\n",
            "193\n",
            "197\n",
            "199\n"
          ],
          "name": "stdout"
        }
      ]
    }
  ]
}