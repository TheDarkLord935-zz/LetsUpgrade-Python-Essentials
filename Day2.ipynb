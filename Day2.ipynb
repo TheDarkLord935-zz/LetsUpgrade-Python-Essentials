{
  "nbformat": 4,
  "nbformat_minor": 0,
  "metadata": {
    "colab": {
      "name": "Untitled",
      "provenance": [],
      "authorship_tag": "ABX9TyMyNGKXvYKbqp7qCOaC4sRy",
      "include_colab_link": true
    },
    "kernelspec": {
      "name": "python3",
      "display_name": "Python 3"
    }
  },
  "cells": [
    {
      "cell_type": "markdown",
      "metadata": {
        "id": "view-in-github",
        "colab_type": "text"
      },
      "source": [
        "<a href=\"https://colab.research.google.com/github/TheDarkLord935/LetsUpgrade-Python-Essentials/blob/master/Day2.ipynb\" target=\"_parent\"><img src=\"https://colab.research.google.com/assets/colab-badge.svg\" alt=\"Open In Colab\"/></a>"
      ]
    },
    {
      "cell_type": "code",
      "metadata": {
        "id": "zSdcKUCpihPP",
        "colab_type": "code",
        "colab": {
          "base_uri": "https://localhost:8080/",
          "height": 139
        },
        "outputId": "470dd47c-aa51-4257-e2c0-656f71d76c2c"
      },
      "source": [
        "#List\n",
        " \n",
        " \n",
        " \n",
        "lst= [1,2,3,\"Aman\",\"Hi Sai Sir\"]\n",
        " \n",
        "print(\"Created List:\",lst)\n",
        " \n",
        "lst.append([4,5,6])\n",
        "#Adds a value at the end of the list\n",
        "#Here [4,5,6] is a single value because it is a list\n",
        " \n",
        " \n",
        "newlst=lst\n",
        " \n",
        "print(\"Created A New List:\", newlst,\"\\n\")\n",
        " \n",
        "lst.clear()\n",
        " \n",
        "print(\"When List's value is cleared,\", lst)\n",
        "print(\"New List also looses it's values\", newlst,\"\\n\")"
      ],
      "execution_count": null,
      "outputs": [
        {
          "output_type": "stream",
          "text": [
            "Created List: [1, 2, 3, 'Aman', 'Hi Sai Sir']\n",
            "Created A New List: [1, 2, 3, 'Aman', 'Hi Sai Sir', [4, 5, 6]] \n",
            "\n",
            "When List's value is cleared, []\n",
            "New List also looses it's values [] \n",
            "\n"
          ],
          "name": "stdout"
        }
      ]
    },
    {
      "cell_type": "code",
      "metadata": {
        "id": "G-Nd8XMIky2N",
        "colab_type": "code",
        "colab": {
          "base_uri": "https://localhost:8080/",
          "height": 88
        },
        "outputId": "6fc608e3-86dc-4652-d962-3f849aab53b2"
      },
      "source": [
        "lst=[1,2,3,4,5,6]\n",
        " \n",
        "newlst=lst.copy()\n",
        " \n",
        "lst.clear()\n",
        " \n",
        "print(\"This time when list is cleared,\",lst)\n",
        "print(\"New list retains it's value\", newlst,\"\\n\")"
      ],
      "execution_count": null,
      "outputs": [
        {
          "output_type": "stream",
          "text": [
            "This time when list is cleared, []\n",
            "New list retains it's value [1, 2, 3, 4, 5, 6] \n",
            "\n"
          ],
          "name": "stdout"
        }
      ]
    },
    {
      "cell_type": "code",
      "metadata": {
        "id": "b_7wGsVToWpP",
        "colab_type": "code",
        "colab": {
          "base_uri": "https://localhost:8080/",
          "height": 88
        },
        "outputId": "86df3fbf-d277-401c-b367-7dc244252228"
      },
      "source": [
        " lst=[1,2,456,\"Aman\",456,\"Aman\"]\n",
        "lst.append([\"Aman\",\"Ahmed\"])\n",
        " \n",
        "print(lst,\"\\n\")\n",
        " \n",
        "x=lst.count(\"Aman\")\n",
        " print(x)"
      ],
      "execution_count": null,
      "outputs": [
        {
          "output_type": "stream",
          "text": [
            "[1, 2, 456, 'Aman', 456, 'Aman', ['Aman', 'Ahmed']] \n",
            "\n",
            "2\n"
          ],
          "name": "stdout"
        }
      ]
    },
    {
      "cell_type": "code",
      "metadata": {
        "id": "68P4Mdu2pXHS",
        "colab_type": "code",
        "colab": {
          "base_uri": "https://localhost:8080/",
          "height": 54
        },
        "outputId": "4e4b172a-f165-43e9-848f-75627fdf0246"
      },
      "source": [
        "lst.extend(newlst)\n",
        " \n",
        "print(lst)"
      ],
      "execution_count": null,
      "outputs": [
        {
          "output_type": "stream",
          "text": [
            "[1, 2, 456, 'Aman', 456, 'Aman', ['Aman', 'Ahmed'], 1, 2, 3, 4, 5, 6]\n"
          ],
          "name": "stdout"
        }
      ]
    },
    {
      "cell_type": "code",
      "metadata": {
        "id": "3VhIh_bQqblz",
        "colab_type": "code",
        "colab": {
          "base_uri": "https://localhost:8080/",
          "height": 190
        },
        "outputId": "44190d82-854a-4360-ffab-86e4bf69cd42"
      },
      "source": [
        "lst.remove(\"Aman\")\n",
        "print(lst,\"\\n\\n\")\n",
        " \n",
        "lst.pop(3)\n",
        "print(lst,\"\\n\\n\")\n",
        " \n",
        "lst.pop(4)\n",
        "print(lst,\"\\n\\n\")"
      ],
      "execution_count": null,
      "outputs": [
        {
          "output_type": "stream",
          "text": [
            "[1, 2, 456, 456, 'Aman', ['Aman', 'Ahmed'], 1, 2, 3, 4, 5, 6] \n",
            "\n",
            "\n",
            "[1, 2, 456, 'Aman', ['Aman', 'Ahmed'], 1, 2, 3, 4, 5, 6] \n",
            "\n",
            "\n",
            "[1, 2, 456, 'Aman', 1, 2, 3, 4, 5, 6] \n",
            "\n",
            "\n"
          ],
          "name": "stdout"
        }
      ]
    },
    {
      "cell_type": "code",
      "metadata": {
        "id": "twmCEy3Srmmo",
        "colab_type": "code",
        "colab": {
          "base_uri": "https://localhost:8080/",
          "height": 54
        },
        "outputId": "cb209173-e165-48df-e006-9968ad766f49"
      },
      "source": [
        "lst.insert(4,\"Ahmed\")\n",
        "print(lst,\"/n/n\")"
      ],
      "execution_count": null,
      "outputs": [
        {
          "output_type": "stream",
          "text": [
            "[1, 2, 456, 'Aman', 'Ahmed', 1, 2, 3, 4, 5, 6] /n/n\n"
          ],
          "name": "stdout"
        }
      ]
    },
    {
      "cell_type": "code",
      "metadata": {
        "id": "1HO-Q7mssHau",
        "colab_type": "code",
        "colab": {
          "base_uri": "https://localhost:8080/",
          "height": 88
        },
        "outputId": "537b1e7f-cf8d-4a66-a1a0-8e0bdff189bb"
      },
      "source": [
        "lst.reverse()\n",
        "print(lst,\"\\n\\n\")"
      ],
      "execution_count": null,
      "outputs": [
        {
          "output_type": "stream",
          "text": [
            "[6, 5, 4, 3, 2, 1, 'Ahmed', 'Aman', 456, 2, 1] \n",
            "\n",
            "\n"
          ],
          "name": "stdout"
        }
      ]
    },
    {
      "cell_type": "code",
      "metadata": {
        "id": "XXV14tgpsaz9",
        "colab_type": "code",
        "colab": {
          "base_uri": "https://localhost:8080/",
          "height": 272
        },
        "outputId": "24b3aa46-b0cd-4b77-e16b-71379bff54db"
      },
      "source": [
        "print(newlst,\"\\n\\n\")\n",
        " \n",
        "newlst.reverse()\n",
        "print(newlst,\"\\n\\n\")\n",
        " \n",
        "newlst.insert(3,9)\n",
        "print(newlst,\"\\n\\n\")\n",
        " \n",
        "newlst.remove(5)\n",
        "print(newlst,\"\\n\\n\")\n",
        " \n",
        "newlst.sort()\n",
        "print(newlst,\"\\n\\n\")"
      ],
      "execution_count": null,
      "outputs": [
        {
          "output_type": "stream",
          "text": [
            "[1, 2, 3, 4, 5, 6] \n",
            "\n",
            "\n",
            "[6, 5, 4, 3, 2, 1] \n",
            "\n",
            "\n",
            "[6, 5, 4, 9, 3, 2, 1] \n",
            "\n",
            "\n",
            "[6, 4, 9, 3, 2, 1] \n",
            "\n",
            "\n",
            "[1, 2, 3, 4, 6, 9] \n",
            "\n",
            "\n"
          ],
          "name": "stdout"
        }
      ]
    },
    {
      "cell_type": "code",
      "metadata": {
        "id": "m5NYyGT2uN5K",
        "colab_type": "code",
        "colab": {
          "base_uri": "https://localhost:8080/",
          "height": 35
        },
        "outputId": "b84d2633-35eb-45a6-8e8a-ea86db878c65"
      },
      "source": [
        "#Dictionary\n",
        "\n",
        "\n",
        "\n",
        "\n",
        " \n",
        "dit={'Name':'Aman','Age':'420','Number':'62910001920'}\n",
        "dit.get(\"Name\")"
      ],
      "execution_count": 21,
      "outputs": [
        {
          "output_type": "execute_result",
          "data": {
            "application/vnd.google.colaboratory.intrinsic+json": {
              "type": "string"
            },
            "text/plain": [
              "'Aman'"
            ]
          },
          "metadata": {
            "tags": []
          },
          "execution_count": 21
        }
      ]
    },
    {
      "cell_type": "code",
      "metadata": {
        "id": "jxLiCpy_V51F",
        "colab_type": "code",
        "colab": {
          "base_uri": "https://localhost:8080/",
          "height": 139
        },
        "outputId": "1f87a913-0426-4136-9d5c-d9eedaf53df3"
      },
      "source": [
        "dit.update({\"Type\":\"Meta Human\"})\n",
        " \n",
        "print(dit.keys(),\"\\n\\n\")\n",
        " \n",
        "print(dit.items(),\"\\n\\n\")"
      ],
      "execution_count": 28,
      "outputs": [
        {
          "output_type": "stream",
          "text": [
            "dict_keys(['Name', 'age', 'Number', 'Type']) \n",
            "\n",
            "\n",
            "dict_items([('Name', 'Aman'), ('age', '420'), ('Number', '62910001920'), ('Type', 'Meta Human')]) \n",
            "\n",
            "\n"
          ],
          "name": "stdout"
        }
      ]
    },
    {
      "cell_type": "code",
      "metadata": {
        "id": "EnEsr6XSWBxu",
        "colab_type": "code",
        "colab": {
          "base_uri": "https://localhost:8080/",
          "height": 35
        },
        "outputId": "d29e6c5e-a4b6-4648-91da-9201378a1e27"
      },
      "source": [
        "dit.pop(\"Type\")"
      ],
      "execution_count": 29,
      "outputs": [
        {
          "output_type": "execute_result",
          "data": {
            "application/vnd.google.colaboratory.intrinsic+json": {
              "type": "string"
            },
            "text/plain": [
              "'Meta Human'"
            ]
          },
          "metadata": {
            "tags": []
          },
          "execution_count": 29
        }
      ]
    },
    {
      "cell_type": "code",
      "metadata": {
        "id": "Fb1JirztW3zl",
        "colab_type": "code",
        "colab": {
          "base_uri": "https://localhost:8080/",
          "height": 394
        },
        "outputId": "6410af55-a3c8-485f-e5aa-307896606bce"
      },
      "source": [
        "#Sets\n",
        " \n",
        "st={90,52,3000, \"Hello\",\"Aman\", \"Sai Sir\"}\n",
        "print(st,\"\\n\\n\")\n",
        " \n",
        " \n",
        "st1={\"Hello\", \"Sai Sir\", \"LetsUpgrade\", \"RohiniV\"}\n",
        " \n",
        "print(st1.intersection(st),\"\\n\\n\")\n",
        " \n",
        "print(st1.difference(st),\"\\n\\n\")\n",
        " \n",
        "print(st.difference(st1),\"\\n\\n\")\n",
        " \n",
        "print(st.issubset(st1),\"\\n\\n\")\n",
        " \n",
        "st.update(st1)\n",
        "print(st.difference(st1),\"\\n\\n\")\n",
        "print(st1.issubset(st),\"\\n\\n\")"
      ],
      "execution_count": 39,
      "outputs": [
        {
          "output_type": "stream",
          "text": [
            "{'Sai Sir', 'Aman', 52, 3000, 90, 'Hello'} \n",
            "\n",
            "\n",
            "{'Sai Sir', 'Hello'} \n",
            "\n",
            "\n",
            "{'RohiniV', 'LetsUpgrade'} \n",
            "\n",
            "\n",
            "{3000, 'Aman', 52, 90} \n",
            "\n",
            "\n",
            "False \n",
            "\n",
            "\n",
            "{3000, 'Aman', 52, 90} \n",
            "\n",
            "\n",
            "True \n",
            "\n",
            "\n"
          ],
          "name": "stdout"
        }
      ]
    },
    {
      "cell_type": "code",
      "metadata": {
        "id": "DnBC0DWwZ5gN",
        "colab_type": "code",
        "colab": {
          "base_uri": "https://localhost:8080/",
          "height": 190
        },
        "outputId": "5a63829e-d3b7-4615-bb54-47e9f2888161"
      },
      "source": [
        "#Tuple\n",
        " \n",
        " \n",
        "tup=(1,2,99,\"Aman\",\"Thank You LetsUpgrade\")\n",
        " \n",
        "print(tup,\"\\n\\n\")\n",
        " \n",
        "print(tup.count(99),\"\\n\\n\")\n",
        " \n",
        "print(tup.index(\"Aman\"),\"\\n\\n\")"
      ],
      "execution_count": 40,
      "outputs": [
        {
          "output_type": "stream",
          "text": [
            "(1, 2, 99, 'Aman', 'Thank You LetsUpgrade') \n",
            "\n",
            "\n",
            "1 \n",
            "\n",
            "\n",
            "3 \n",
            "\n",
            "\n"
          ],
          "name": "stdout"
        }
      ]
    },
    {
      "cell_type": "code",
      "metadata": {
        "id": "Ma8_KMYha63v",
        "colab_type": "code",
        "colab": {
          "base_uri": "https://localhost:8080/",
          "height": 309
        },
        "outputId": "96447e44-621c-4103-cc1f-38edeb1dfe73"
      },
      "source": [
        "#String\n",
        " \n",
        " \n",
        " \n",
        "str=\"Thank You LetsUpgrade.\"\n",
        "print(str,\"\\n\\n\")\n",
        " \n",
        "str1=\"Thank You Sai Sir.\"\n",
        "print(str1,\"\\n\\n\")\n",
        " \n",
        "newstr=str+str1\n",
        "print(newstr,\"\\n\\n\")\n",
        " \n",
        "newstr.center(10)\n",
        "print(newstr,\"\\n\\n\")\n",
        " \n",
        "print(newstr.endswith(\".\"))\n",
        " \n",
        "print(newstr.upper(),\"\\n\\n\")"
      ],
      "execution_count": 59,
      "outputs": [
        {
          "output_type": "stream",
          "text": [
            "Thank You LetsUpgrade. \n",
            "\n",
            "\n",
            "Thank You Sai Sir. \n",
            "\n",
            "\n",
            "Thank You LetsUpgrade.Thank You Sai Sir. \n",
            "\n",
            "\n",
            "Thank You LetsUpgrade.Thank You Sai Sir. \n",
            "\n",
            "\n",
            "True\n",
            "THANK YOU LETSUPGRADE.THANK YOU SAI SIR. \n",
            "\n",
            "\n"
          ],
          "name": "stdout"
        }
      ]
    }
  ]
}