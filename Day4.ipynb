{
  "nbformat": 4,
  "nbformat_minor": 0,
  "metadata": {
    "colab": {
      "name": "Day4.ipynb",
      "provenance": [],
      "authorship_tag": "ABX9TyOj0B/gvisJFRVDZvMMvXJo",
      "include_colab_link": true
    },
    "kernelspec": {
      "name": "python3",
      "display_name": "Python 3"
    }
  },
  "cells": [
    {
      "cell_type": "markdown",
      "metadata": {
        "id": "view-in-github",
        "colab_type": "text"
      },
      "source": [
        "<a href=\"https://colab.research.google.com/github/TheDarkLord935/LetsUpgrade-Python-Essentials/blob/master/Day4.ipynb\" target=\"_parent\"><img src=\"https://colab.research.google.com/assets/colab-badge.svg\" alt=\"Open In Colab\"/></a>"
      ]
    },
    {
      "cell_type": "code",
      "metadata": {
        "id": "RYWVxGvGnfgO",
        "colab_type": "code",
        "colab": {
          "base_uri": "https://localhost:8080/",
          "height": 54
        },
        "outputId": "431d3a88-a0fd-494c-a7aa-fbff5cd084c3"
      },
      "source": [
        "for num in range(1,100):\n",
        "    temp=num\n",
        "    sum=0\n",
        "    \n",
        "    while temp>0:\n",
        "        t=int (temp%10)\n",
        "        sum=sum+ (t**3)\n",
        "        temp=int (temp/10)\n",
        "    \n",
        "    if sum==num:\n",
        "        print(\"The first Armstrong number in the given range is \",num)\n",
        "        break"
      ],
      "execution_count": 5,
      "outputs": [
        {
          "output_type": "stream",
          "text": [
            "The first Armstrong number in the given range is  1\n"
          ],
          "name": "stdout"
        }
      ]
    },
    {
      "cell_type": "code",
      "metadata": {
        "id": "XpYRXWVit9ip",
        "colab_type": "code",
        "colab": {
          "base_uri": "https://localhost:8080/",
          "height": 54
        },
        "outputId": "235c5663-5221-4da3-8301-5aecf5820322"
      },
      "source": [
        "for num in range(100,200):\n",
        "    temp=num\n",
        "    sum=0\n",
        "    \n",
        "    while temp>0:\n",
        "        t=int (temp%10)\n",
        "        sum=sum+ (t**3)\n",
        "        temp=int (temp/10)\n",
        "    \n",
        "    if sum==num:\n",
        "        print(\"The first Armstrong number in the given range is \",num)\n",
        "        break"
      ],
      "execution_count": 7,
      "outputs": [
        {
          "output_type": "stream",
          "text": [
            "The first Armstrong number in the given range is  153\n"
          ],
          "name": "stdout"
        }
      ]
    },
    {
      "cell_type": "code",
      "metadata": {
        "id": "GwD7xFwmuDeL",
        "colab_type": "code",
        "colab": {
          "base_uri": "https://localhost:8080/",
          "height": 54
        },
        "outputId": "fcb8bec0-3e06-4421-ef9e-0b3b0d17a17b"
      },
      "source": [
        " \n",
        "for num in range(200,400):\n",
        "    temp=num\n",
        "    sum=0\n",
        "    \n",
        "    while temp>0:\n",
        "        t=int (temp%10)\n",
        "        sum=sum+ (t**3)\n",
        "        temp=int (temp/10)\n",
        "    \n",
        "    if sum==num:\n",
        "        print(\"The first Armstrong number in the given range is \",num)\n",
        "        break"
      ],
      "execution_count": 9,
      "outputs": [
        {
          "output_type": "stream",
          "text": [
            "The first Armstrong number in the given range is  370\n"
          ],
          "name": "stdout"
        }
      ]
    },
    {
      "cell_type": "code",
      "metadata": {
        "id": "gWBwzuGuuJWa",
        "colab_type": "code",
        "colab": {
          "base_uri": "https://localhost:8080/",
          "height": 54
        },
        "outputId": "7d768ebc-3d81-47c5-a443-e9a958277e4a"
      },
      "source": [
        " \n",
        "for num in range(371,400):\n",
        "    temp=num\n",
        "    sum=0\n",
        "    \n",
        "    while temp>0:\n",
        "        t=int (temp%10)\n",
        "        sum=sum+ (t**3)\n",
        "        temp=int (temp/10)\n",
        "    \n",
        "    if sum==num:\n",
        "        print(\"The first Armstrong number in the given range is \",num)\n",
        "        break"
      ],
      "execution_count": 10,
      "outputs": [
        {
          "output_type": "stream",
          "text": [
            "The first Armstrong number in the given range is  371\n"
          ],
          "name": "stdout"
        }
      ]
    },
    {
      "cell_type": "code",
      "metadata": {
        "id": "oq5Ao4KLuSHk",
        "colab_type": "code",
        "colab": {
          "base_uri": "https://localhost:8080/",
          "height": 122
        },
        "outputId": "bd5eefaf-f12e-48dd-be21-10cf3265499b"
      },
      "source": [
        " \n",
        " \n",
        "print(\"The Armstrong numbers in the given range is \")\n",
        "for num in range(1,400):\n",
        "    temp=num\n",
        "    sum=0\n",
        "    \n",
        "    while temp>0:\n",
        "        t=int (temp%10)\n",
        "        sum=sum+ (t**3)\n",
        "        temp=int (temp/10)\n",
        "    \n",
        "    if sum==num:\n",
        "        print(num)"
      ],
      "execution_count": 12,
      "outputs": [
        {
          "output_type": "stream",
          "text": [
            "The Armstrong numbers in the given range is \n",
            "1\n",
            "153\n",
            "370\n",
            "371\n"
          ],
          "name": "stdout"
        }
      ]
    },
    {
      "cell_type": "code",
      "metadata": {
        "id": "w1XQK8d5uldr",
        "colab_type": "code",
        "colab": {}
      },
      "source": [
        "#The Range Given In The Question\n",
        "#Cannot Be  Executed\n",
        "#Due To Technical Difficulties\n",
        "#(Less Ram= More Delay; Huge Range)"
      ],
      "execution_count": 13,
      "outputs": []
    }
  ]
}